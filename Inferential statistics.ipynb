{
 "cells": [
  {
   "cell_type": "markdown",
   "id": "753fa0e2",
   "metadata": {},
   "source": [
    "# Set up the hypothesis test."
   ]
  },
  {
   "cell_type": "markdown",
   "id": "b0bfc7b6",
   "metadata": {},
   "source": [
    "null hypothesis H0: μ0 = 120\n",
    "\n",
    "alternative hypothesis H1: μ > 120\n",
    "        \n",
    "one-tailed test μ > μ0 (130.1 > 120)\n",
    "\n",
    "Sample mean μ = 130.1\n",
    "\n",
    "sample size  n = 100 (n > 30)\n",
    "\n",
    "population standard deviation σ = 21.21\n",
    "\n",
    "We know the pop_std and sample size so >> Z-test \n",
    "\n",
    "Significance Level α = 0.01 (medical field)\n",
    "\n",
    "degrees of freedom (df)  df = n - 1 = 99\n",
    "\n",
    "critical value 1 - α = 0.99\n",
    "\n",
    "Then look at the 0.99 in z-table = 2.33\n",
    "\n",
    "Critical region: (-∞, 2.33]\n"
   ]
  },
  {
   "cell_type": "code",
   "execution_count": null,
   "id": "a393691d",
   "metadata": {},
   "outputs": [],
   "source": []
  },
  {
   "cell_type": "markdown",
   "id": "dbe209ea",
   "metadata": {},
   "source": [
    "# Calculate the test statistic by hand and also code it in Python. It should be 4.76190"
   ]
  },
  {
   "cell_type": "code",
   "execution_count": null,
   "id": "9c149dab",
   "metadata": {},
   "outputs": [],
   "source": [
    "z-Test score = (130.1 – 120) / (σ / √n)\n",
    "z-Test score = (130.1 – 120) / (21.21 / √100)\n",
    "\n",
    "z-test score = 4.762"
   ]
  },
  {
   "cell_type": "code",
   "execution_count": 1,
   "id": "2e309c82",
   "metadata": {},
   "outputs": [
    {
     "data": {
      "text/plain": [
       "4.761904761904759"
      ]
     },
     "execution_count": 1,
     "metadata": {},
     "output_type": "execute_result"
    }
   ],
   "source": [
    "import math\n",
    "\n",
    "sample_mean = 130.1\n",
    "pop_mean = 120\n",
    "pop_std = 21.21\n",
    "n = 100\n",
    "\n",
    "\n",
    "statistic = (sample_mean - pop_mean)/(pop_std/math.sqrt(n))\n",
    "statistic\n",
    "4.761904761904759"
   ]
  },
  {
   "cell_type": "raw",
   "id": "331127d9",
   "metadata": {},
   "source": [
    "Conclusion\n",
    "The Z-score dosen't belong to the critical region, so we reject null hypothesis(H0) and accept H1"
   ]
  }
 ],
 "metadata": {
  "kernelspec": {
   "display_name": "Python 3 (ipykernel)",
   "language": "python",
   "name": "python3"
  },
  "language_info": {
   "codemirror_mode": {
    "name": "ipython",
    "version": 3
   },
   "file_extension": ".py",
   "mimetype": "text/x-python",
   "name": "python",
   "nbconvert_exporter": "python",
   "pygments_lexer": "ipython3",
   "version": "3.9.12"
  }
 },
 "nbformat": 4,
 "nbformat_minor": 5
}
